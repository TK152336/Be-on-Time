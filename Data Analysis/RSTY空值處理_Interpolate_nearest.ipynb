{
 "cells": [
  {
   "cell_type": "code",
   "execution_count": 1,
   "id": "99d17de9-a220-407b-a1e2-36d1c66c51c6",
   "metadata": {},
   "outputs": [],
   "source": [
    "import pandas as pd\n",
    "import matplotlib.pyplot as plt\n",
    "import missingno as msno"
   ]
  },
  {
   "cell_type": "markdown",
   "id": "8c5206be-265a-441a-ad54-2245b1ebff43",
   "metadata": {},
   "source": [
    "## 1.讀入資料"
   ]
  },
  {
   "cell_type": "code",
   "execution_count": 2,
   "id": "197a3f65-b0a6-4171-94e6-eba304ed0feb",
   "metadata": {},
   "outputs": [
    {
     "name": "stderr",
     "output_type": "stream",
     "text": [
      "C:\\Users\\terra\\AppData\\Local\\Temp\\ipykernel_25524\\1505372966.py:1: DtypeWarning: Columns (20,21) have mixed types. Specify dtype option on import or set low_memory=False.\n",
      "  df = pd.read_csv('../../資料研究/weather_天氣/02_fp_data_weather2/weather_info_13865.csv')\n"
     ]
    }
   ],
   "source": [
    "df = pd.read_csv('../../資料研究/weather_天氣/02_fp_data_weather2/weather_info_13865.csv')"
   ]
  },
  {
   "cell_type": "markdown",
   "id": "145d895f-7161-4ab4-969f-39bc12e47f09",
   "metadata": {},
   "source": [
    "## 2.資料基本資訊查看"
   ]
  },
  {
   "cell_type": "code",
   "execution_count": 3,
   "id": "1cc84467-9749-4c70-a08d-b4231326fbdc",
   "metadata": {},
   "outputs": [
    {
     "data": {
      "text/plain": [
       "(83830, 25)"
      ]
     },
     "execution_count": 3,
     "metadata": {},
     "output_type": "execute_result"
    }
   ],
   "source": [
    "df.shape"
   ]
  },
  {
   "cell_type": "code",
   "execution_count": 4,
   "id": "b3ae7fa0-20bf-47c3-9cca-8c8175a4515d",
   "metadata": {},
   "outputs": [
    {
     "name": "stdout",
     "output_type": "stream",
     "text": [
      "<class 'pandas.core.frame.DataFrame'>\n",
      "RangeIndex: 83830 entries, 0 to 83829\n",
      "Data columns (total 25 columns):\n",
      " #   Column             Non-Null Count  Dtype  \n",
      "---  ------             --------------  -----  \n",
      " 0   WBAN               83830 non-null  int64  \n",
      " 1   date_yyyy          83830 non-null  int64  \n",
      " 2   date_mm            83830 non-null  int64  \n",
      " 3   date_dd            83830 non-null  int64  \n",
      " 4   time_hh            83830 non-null  int64  \n",
      " 5   time_mm            83830 non-null  int64  \n",
      " 6   time_ss            83830 non-null  int64  \n",
      " 7   sunrise_hh         83816 non-null  float64\n",
      " 8   sunrise_mm         83816 non-null  float64\n",
      " 9   sunset_hh          83816 non-null  float64\n",
      " 10  sunset_mm          83816 non-null  float64\n",
      " 11  dry_bulb_temp      83741 non-null  object \n",
      " 12  wet_bulb_temp      83325 non-null  float64\n",
      " 13  dew_point_temp     83701 non-null  object \n",
      " 14  precipitation      60021 non-null  object \n",
      " 15  snow_fall          0 non-null      float64\n",
      " 16  snow_depth         0 non-null      float64\n",
      " 17  relative_humidity  83697 non-null  float64\n",
      " 18  wind_dict          83259 non-null  object \n",
      " 19  wind_speed         6218 non-null   float64\n",
      " 20  station_pressure   83454 non-null  object \n",
      " 21  sealevel_pressure  62666 non-null  object \n",
      " 22  pressure_change    26555 non-null  float64\n",
      " 23  pressure_tendency  26555 non-null  float64\n",
      " 24  visibility         83800 non-null  object \n",
      "dtypes: float64(11), int64(7), object(7)\n",
      "memory usage: 16.0+ MB\n"
     ]
    }
   ],
   "source": [
    "df.info()"
   ]
  },
  {
   "cell_type": "code",
   "execution_count": 5,
   "id": "1735f89d-8ab0-4aa6-8804-3ce6780d8ba1",
   "metadata": {
    "tags": []
   },
   "outputs": [
    {
     "data": {
      "text/plain": [
       "WBAN                     0\n",
       "date_yyyy                0\n",
       "date_mm                  0\n",
       "date_dd                  0\n",
       "time_hh                  0\n",
       "time_mm                  0\n",
       "time_ss                  0\n",
       "sunrise_hh              14\n",
       "sunrise_mm              14\n",
       "sunset_hh               14\n",
       "sunset_mm               14\n",
       "dry_bulb_temp           89\n",
       "wet_bulb_temp          505\n",
       "dew_point_temp         129\n",
       "precipitation        23809\n",
       "snow_fall            83830\n",
       "snow_depth           83830\n",
       "relative_humidity      133\n",
       "wind_dict              571\n",
       "wind_speed           77612\n",
       "station_pressure       376\n",
       "sealevel_pressure    21164\n",
       "pressure_change      57275\n",
       "pressure_tendency    57275\n",
       "visibility              30\n",
       "dtype: int64"
      ]
     },
     "execution_count": 5,
     "metadata": {},
     "output_type": "execute_result"
    }
   ],
   "source": [
    "df.isna().sum()"
   ]
  },
  {
   "cell_type": "markdown",
   "id": "dbcb8d65-6124-4657-8246-bc4930244e93",
   "metadata": {},
   "source": [
    "## 3-1.先處理欄位中 因為符號、文字導致型別變成 object的問題 但我最後實際需要的是純數值\n",
    "#### 17  relative_humidity \n",
    "#### 19  wind_speed\n",
    "#### 24  visibility"
   ]
  },
  {
   "cell_type": "code",
   "execution_count": 6,
   "id": "bd4313c7-b212-40d9-88ab-70ce23722899",
   "metadata": {},
   "outputs": [],
   "source": [
    "#17  relative_humidity\n",
    "df['relative_humidity']=  df['relative_humidity'].apply(lambda x : eval(x.replace(x,'0')) if x =='*' else float(x) )"
   ]
  },
  {
   "cell_type": "code",
   "execution_count": 7,
   "id": "c2f95ad3-63c2-455d-bad4-15c3986d5d80",
   "metadata": {},
   "outputs": [],
   "source": [
    "# 19 wind_speed\n",
    "df['wind_speed']=  df['wind_speed'].apply(lambda x : x.replace(x,'0') if x =='*' else x )\n",
    "df['wind_speed']= df['wind_speed'].apply(lambda x: eval(x.strip('s')) if type(x)==str else x)"
   ]
  },
  {
   "cell_type": "code",
   "execution_count": 8,
   "id": "dc192431-613b-40af-9519-69a8ec980af9",
   "metadata": {},
   "outputs": [],
   "source": [
    "#24  visibility\n",
    "df['visibility']=  df['visibility'].apply(lambda x : x.replace(x,'0') if x =='*' else x )\n",
    "df['visibility']= df['visibility'].apply(lambda x: eval(x.strip('Vs')) if type(x)==str else x)"
   ]
  },
  {
   "cell_type": "markdown",
   "id": "84d905f1-d556-4069-a767-3d9a70563ab4",
   "metadata": {},
   "source": [
    "## 3-2.處理欄位原本是數值，但不好用，轉成類別 True 1/False 0\n",
    "#### 18  wind_dict"
   ]
  },
  {
   "cell_type": "code",
   "execution_count": 9,
   "id": "424c79e4-f6d6-49ef-a648-b21b710f125c",
   "metadata": {},
   "outputs": [],
   "source": [
    "#18  wind_dict 數字是'str' 空格是 'nan' float 'VRB'是'str'\n",
    "#把(空缺nan)float 換成字串 \n",
    "df['wind_dict']=  df['wind_dict'].apply(lambda x : str(x) if type(x)!=str else x )\n",
    "#把'VRB' 換成 False 且以字串 0 代表\n",
    "df['wind_dict']=  df['wind_dict'].apply(lambda x : x.replace(x,'1') if x =='VRB' else x )\n",
    "#把'nan'字串 換成 False 且以字串 0 代表\n",
    "df['wind_dict']=  df['wind_dict'].apply(lambda x : x.replace(x,'1') if x=='nan' else x )\n",
    "#把'數值'字串 換成 True 且以字串 1 代表\n",
    "df['wind_dict']=  df['wind_dict'].apply(lambda x : x.replace(x,'0') if x!=('nan','VRB','1') else x )\n",
    "#把'0' '1'字串 轉成數值\n",
    "df['wind_dict']=  df['wind_dict'].apply(lambda x : eval(x) )"
   ]
  },
  {
   "cell_type": "markdown",
   "id": "c960e87b-2251-4d91-bb19-acbd896b02c2",
   "metadata": {},
   "source": [
    "## 3-3.處理完後檢查是否都轉為 數值型態了 如此才能正式進入補值"
   ]
  },
  {
   "cell_type": "code",
   "execution_count": 10,
   "id": "ce833ded-bd9d-4511-9fca-8311addfabd4",
   "metadata": {},
   "outputs": [
    {
     "name": "stdout",
     "output_type": "stream",
     "text": [
      "<class 'pandas.core.frame.DataFrame'>\n",
      "RangeIndex: 83830 entries, 0 to 83829\n",
      "Data columns (total 25 columns):\n",
      " #   Column             Non-Null Count  Dtype  \n",
      "---  ------             --------------  -----  \n",
      " 0   WBAN               83830 non-null  int64  \n",
      " 1   date_yyyy          83830 non-null  int64  \n",
      " 2   date_mm            83830 non-null  int64  \n",
      " 3   date_dd            83830 non-null  int64  \n",
      " 4   time_hh            83830 non-null  int64  \n",
      " 5   time_mm            83830 non-null  int64  \n",
      " 6   time_ss            83830 non-null  int64  \n",
      " 7   sunrise_hh         83816 non-null  float64\n",
      " 8   sunrise_mm         83816 non-null  float64\n",
      " 9   sunset_hh          83816 non-null  float64\n",
      " 10  sunset_mm          83816 non-null  float64\n",
      " 11  dry_bulb_temp      83741 non-null  object \n",
      " 12  wet_bulb_temp      83325 non-null  float64\n",
      " 13  dew_point_temp     83701 non-null  object \n",
      " 14  precipitation      60021 non-null  object \n",
      " 15  snow_fall          0 non-null      float64\n",
      " 16  snow_depth         0 non-null      float64\n",
      " 17  relative_humidity  83697 non-null  float64\n",
      " 18  wind_dict          83830 non-null  int64  \n",
      " 19  wind_speed         6218 non-null   float64\n",
      " 20  station_pressure   83454 non-null  object \n",
      " 21  sealevel_pressure  62666 non-null  object \n",
      " 22  pressure_change    26555 non-null  float64\n",
      " 23  pressure_tendency  26555 non-null  float64\n",
      " 24  visibility         83800 non-null  float64\n",
      "dtypes: float64(12), int64(8), object(5)\n",
      "memory usage: 16.0+ MB\n"
     ]
    }
   ],
   "source": [
    "df.info()"
   ]
  },
  {
   "cell_type": "markdown",
   "id": "cb53812f-f297-4241-8dc8-6e2155c57c5c",
   "metadata": {},
   "source": [
    "### 看一下缺失值狀態"
   ]
  },
  {
   "cell_type": "code",
   "execution_count": 11,
   "id": "893b5fdb-6ecb-401d-95e1-cc837fc99278",
   "metadata": {},
   "outputs": [
    {
     "data": {
      "text/plain": [
       "WBAN                     0\n",
       "date_yyyy                0\n",
       "date_mm                  0\n",
       "date_dd                  0\n",
       "time_hh                  0\n",
       "time_mm                  0\n",
       "time_ss                  0\n",
       "sunrise_hh              14\n",
       "sunrise_mm              14\n",
       "sunset_hh               14\n",
       "sunset_mm               14\n",
       "dry_bulb_temp           89\n",
       "wet_bulb_temp          505\n",
       "dew_point_temp         129\n",
       "precipitation        23809\n",
       "snow_fall            83830\n",
       "snow_depth           83830\n",
       "relative_humidity      133\n",
       "wind_dict                0\n",
       "wind_speed           77612\n",
       "station_pressure       376\n",
       "sealevel_pressure    21164\n",
       "pressure_change      57275\n",
       "pressure_tendency    57275\n",
       "visibility              30\n",
       "dtype: int64"
      ]
     },
     "execution_count": 11,
     "metadata": {},
     "output_type": "execute_result"
    }
   ],
   "source": [
    "df.isna().sum()"
   ]
  },
  {
   "cell_type": "code",
   "execution_count": 12,
   "id": "13ca9c02-8975-43cc-9138-571f96cf4819",
   "metadata": {
    "tags": []
   },
   "outputs": [
    {
     "data": {
      "text/plain": [
       "<Axes: >"
      ]
     },
     "execution_count": 12,
     "metadata": {},
     "output_type": "execute_result"
    },
    {
     "data": {
      "image/png": "[encoded data removed]",
      "text/plain": [
       "<Figure size 2500x1000 with 2 Axes>"
      ]
     },
     "metadata": {},
     "output_type": "display_data"
    }
   ],
   "source": [
    "msno.matrix(df)"
   ]
  },
  {
   "cell_type": "markdown",
   "id": "c8ce0657-8ee6-46d0-b7b9-34859e20b6dd",
   "metadata": {},
   "source": [
    "### 看一下補值前的資料基本資訊"
   ]
  },
  {
   "cell_type": "code",
   "execution_count": 13,
   "id": "78111ed5-3884-4018-8998-f86f4ff5b9db",
   "metadata": {},
   "outputs": [
    {
     "data": {
      "text/html": [
       "<div>\n",
       "<style scoped>\n",
       "    .dataframe tbody tr th:only-of-type {\n",
       "        vertical-align: middle;\n",
       "    }\n",
       "\n",
       "    .dataframe tbody tr th {\n",
       "        vertical-align: top;\n",
       "    }\n",
       "\n",
       "    .dataframe thead th {\n",
       "        text-align: right;\n",
       "    }\n",
       "</style>\n",
       "<table border=\"1\" class=\"dataframe\">\n",
       "  <thead>\n",
       "    <tr style=\"text-align: right;\">\n",
       "      <th></th>\n",
       "      <th>count</th>\n",
       "      <th>mean</th>\n",
       "      <th>std</th>\n",
       "      <th>min</th>\n",
       "      <th>25%</th>\n",
       "      <th>50%</th>\n",
       "      <th>75%</th>\n",
       "      <th>max</th>\n",
       "    </tr>\n",
       "  </thead>\n",
       "  <tbody>\n",
       "    <tr>\n",
       "      <th>WBAN</th>\n",
       "      <td>83830.0</td>\n",
       "      <td>13865.000000</td>\n",
       "      <td>0.000000</td>\n",
       "      <td>13865.00</td>\n",
       "      <td>13865.00</td>\n",
       "      <td>13865.0</td>\n",
       "      <td>13865.00</td>\n",
       "      <td>13865.00</td>\n",
       "    </tr>\n",
       "    <tr>\n",
       "      <th>date_yyyy</th>\n",
       "      <td>83830.0</td>\n",
       "      <td>2019.593845</td>\n",
       "      <td>1.789416</td>\n",
       "      <td>2017.00</td>\n",
       "      <td>2018.00</td>\n",
       "      <td>2020.0</td>\n",
       "      <td>2021.00</td>\n",
       "      <td>2023.00</td>\n",
       "    </tr>\n",
       "    <tr>\n",
       "      <th>date_mm</th>\n",
       "      <td>83830.0</td>\n",
       "      <td>6.330872</td>\n",
       "      <td>3.526908</td>\n",
       "      <td>1.00</td>\n",
       "      <td>3.00</td>\n",
       "      <td>6.0</td>\n",
       "      <td>9.00</td>\n",
       "      <td>12.00</td>\n",
       "    </tr>\n",
       "    <tr>\n",
       "      <th>date_dd</th>\n",
       "      <td>83830.0</td>\n",
       "      <td>15.665108</td>\n",
       "      <td>8.792270</td>\n",
       "      <td>1.00</td>\n",
       "      <td>8.00</td>\n",
       "      <td>16.0</td>\n",
       "      <td>23.00</td>\n",
       "      <td>31.00</td>\n",
       "    </tr>\n",
       "    <tr>\n",
       "      <th>time_hh</th>\n",
       "      <td>83830.0</td>\n",
       "      <td>10.893177</td>\n",
       "      <td>6.926788</td>\n",
       "      <td>0.00</td>\n",
       "      <td>5.00</td>\n",
       "      <td>11.0</td>\n",
       "      <td>17.00</td>\n",
       "      <td>23.00</td>\n",
       "    </tr>\n",
       "    <tr>\n",
       "      <th>time_mm</th>\n",
       "      <td>83830.0</td>\n",
       "      <td>45.193415</td>\n",
       "      <td>21.049302</td>\n",
       "      <td>0.00</td>\n",
       "      <td>36.00</td>\n",
       "      <td>58.0</td>\n",
       "      <td>58.00</td>\n",
       "      <td>59.00</td>\n",
       "    </tr>\n",
       "    <tr>\n",
       "      <th>time_ss</th>\n",
       "      <td>83830.0</td>\n",
       "      <td>0.000000</td>\n",
       "      <td>0.000000</td>\n",
       "      <td>0.00</td>\n",
       "      <td>0.00</td>\n",
       "      <td>0.0</td>\n",
       "      <td>0.00</td>\n",
       "      <td>0.00</td>\n",
       "    </tr>\n",
       "    <tr>\n",
       "      <th>sunrise_hh</th>\n",
       "      <td>83816.0</td>\n",
       "      <td>5.272001</td>\n",
       "      <td>0.741416</td>\n",
       "      <td>4.00</td>\n",
       "      <td>5.00</td>\n",
       "      <td>5.0</td>\n",
       "      <td>6.00</td>\n",
       "      <td>6.00</td>\n",
       "    </tr>\n",
       "    <tr>\n",
       "      <th>sunrise_mm</th>\n",
       "      <td>83816.0</td>\n",
       "      <td>35.815250</td>\n",
       "      <td>18.025773</td>\n",
       "      <td>0.00</td>\n",
       "      <td>20.00</td>\n",
       "      <td>41.0</td>\n",
       "      <td>51.00</td>\n",
       "      <td>59.00</td>\n",
       "    </tr>\n",
       "    <tr>\n",
       "      <th>sunset_hh</th>\n",
       "      <td>83816.0</td>\n",
       "      <td>17.485003</td>\n",
       "      <td>0.884077</td>\n",
       "      <td>16.00</td>\n",
       "      <td>17.00</td>\n",
       "      <td>18.0</td>\n",
       "      <td>18.00</td>\n",
       "      <td>19.00</td>\n",
       "    </tr>\n",
       "    <tr>\n",
       "      <th>sunset_mm</th>\n",
       "      <td>83816.0</td>\n",
       "      <td>29.852510</td>\n",
       "      <td>19.828134</td>\n",
       "      <td>0.00</td>\n",
       "      <td>9.00</td>\n",
       "      <td>31.0</td>\n",
       "      <td>50.00</td>\n",
       "      <td>59.00</td>\n",
       "    </tr>\n",
       "    <tr>\n",
       "      <th>wet_bulb_temp</th>\n",
       "      <td>83325.0</td>\n",
       "      <td>60.750459</td>\n",
       "      <td>13.649073</td>\n",
       "      <td>8.00</td>\n",
       "      <td>51.00</td>\n",
       "      <td>64.0</td>\n",
       "      <td>72.00</td>\n",
       "      <td>84.00</td>\n",
       "    </tr>\n",
       "    <tr>\n",
       "      <th>snow_fall</th>\n",
       "      <td>0.0</td>\n",
       "      <td>NaN</td>\n",
       "      <td>NaN</td>\n",
       "      <td>NaN</td>\n",
       "      <td>NaN</td>\n",
       "      <td>NaN</td>\n",
       "      <td>NaN</td>\n",
       "      <td>NaN</td>\n",
       "    </tr>\n",
       "    <tr>\n",
       "      <th>snow_depth</th>\n",
       "      <td>0.0</td>\n",
       "      <td>NaN</td>\n",
       "      <td>NaN</td>\n",
       "      <td>NaN</td>\n",
       "      <td>NaN</td>\n",
       "      <td>NaN</td>\n",
       "      <td>NaN</td>\n",
       "      <td>NaN</td>\n",
       "    </tr>\n",
       "    <tr>\n",
       "      <th>relative_humidity</th>\n",
       "      <td>83697.0</td>\n",
       "      <td>77.337623</td>\n",
       "      <td>18.136943</td>\n",
       "      <td>14.00</td>\n",
       "      <td>67.00</td>\n",
       "      <td>84.0</td>\n",
       "      <td>90.00</td>\n",
       "      <td>100.00</td>\n",
       "    </tr>\n",
       "    <tr>\n",
       "      <th>wind_dict</th>\n",
       "      <td>83830.0</td>\n",
       "      <td>0.000000</td>\n",
       "      <td>0.000000</td>\n",
       "      <td>0.00</td>\n",
       "      <td>0.00</td>\n",
       "      <td>0.0</td>\n",
       "      <td>0.00</td>\n",
       "      <td>0.00</td>\n",
       "    </tr>\n",
       "    <tr>\n",
       "      <th>wind_speed</th>\n",
       "      <td>6218.0</td>\n",
       "      <td>24.379865</td>\n",
       "      <td>5.542251</td>\n",
       "      <td>14.00</td>\n",
       "      <td>21.00</td>\n",
       "      <td>23.0</td>\n",
       "      <td>26.00</td>\n",
       "      <td>64.00</td>\n",
       "    </tr>\n",
       "    <tr>\n",
       "      <th>pressure_change</th>\n",
       "      <td>26555.0</td>\n",
       "      <td>0.000798</td>\n",
       "      <td>0.036665</td>\n",
       "      <td>-0.22</td>\n",
       "      <td>-0.02</td>\n",
       "      <td>0.0</td>\n",
       "      <td>0.02</td>\n",
       "      <td>0.26</td>\n",
       "    </tr>\n",
       "    <tr>\n",
       "      <th>pressure_tendency</th>\n",
       "      <td>26555.0</td>\n",
       "      <td>4.636716</td>\n",
       "      <td>2.802991</td>\n",
       "      <td>0.00</td>\n",
       "      <td>3.00</td>\n",
       "      <td>5.0</td>\n",
       "      <td>8.00</td>\n",
       "      <td>9.00</td>\n",
       "    </tr>\n",
       "    <tr>\n",
       "      <th>visibility</th>\n",
       "      <td>83800.0</td>\n",
       "      <td>8.812591</td>\n",
       "      <td>2.670734</td>\n",
       "      <td>0.00</td>\n",
       "      <td>9.94</td>\n",
       "      <td>10.0</td>\n",
       "      <td>10.00</td>\n",
       "      <td>10.00</td>\n",
       "    </tr>\n",
       "  </tbody>\n",
       "</table>\n",
       "</div>"
      ],
      "text/plain": [
       "                     count          mean        std       min       25%  \\\n",
       "WBAN               83830.0  13865.000000   0.000000  13865.00  13865.00   \n",
       "date_yyyy          83830.0   2019.593845   1.789416   2017.00   2018.00   \n",
       "date_mm            83830.0      6.330872   3.526908      1.00      3.00   \n",
       "date_dd            83830.0     15.665108   8.792270      1.00      8.00   \n",
       "time_hh            83830.0     10.893177   6.926788      0.00      5.00   \n",
       "time_mm            83830.0     45.193415  21.049302      0.00     36.00   \n",
       "time_ss            83830.0      0.000000   0.000000      0.00      0.00   \n",
       "sunrise_hh         83816.0      5.272001   0.741416      4.00      5.00   \n",
       "sunrise_mm         83816.0     35.815250  18.025773      0.00     20.00   \n",
       "sunset_hh          83816.0     17.485003   0.884077     16.00     17.00   \n",
       "sunset_mm          83816.0     29.852510  19.828134      0.00      9.00   \n",
       "wet_bulb_temp      83325.0     60.750459  13.649073      8.00     51.00   \n",
       "snow_fall              0.0           NaN        NaN       NaN       NaN   \n",
       "snow_depth             0.0           NaN        NaN       NaN       NaN   \n",
       "relative_humidity  83697.0     77.337623  18.136943     14.00     67.00   \n",
       "wind_dict          83830.0      0.000000   0.000000      0.00      0.00   \n",
       "wind_speed          6218.0     24.379865   5.542251     14.00     21.00   \n",
       "pressure_change    26555.0      0.000798   0.036665     -0.22     -0.02   \n",
       "pressure_tendency  26555.0      4.636716   2.802991      0.00      3.00   \n",
       "visibility         83800.0      8.812591   2.670734      0.00      9.94   \n",
       "\n",
       "                       50%       75%       max  \n",
       "WBAN               13865.0  13865.00  13865.00  \n",
       "date_yyyy           2020.0   2021.00   2023.00  \n",
       "date_mm                6.0      9.00     12.00  \n",
       "date_dd               16.0     23.00     31.00  \n",
       "time_hh               11.0     17.00     23.00  \n",
       "time_mm               58.0     58.00     59.00  \n",
       "time_ss                0.0      0.00      0.00  \n",
       "sunrise_hh             5.0      6.00      6.00  \n",
       "sunrise_mm            41.0     51.00     59.00  \n",
       "sunset_hh             18.0     18.00     19.00  \n",
       "sunset_mm             31.0     50.00     59.00  \n",
       "wet_bulb_temp         64.0     72.00     84.00  \n",
       "snow_fall              NaN       NaN       NaN  \n",
       "snow_depth             NaN       NaN       NaN  \n",
       "relative_humidity     84.0     90.00    100.00  \n",
       "wind_dict              0.0      0.00      0.00  \n",
       "wind_speed            23.0     26.00     64.00  \n",
       "pressure_change        0.0      0.02      0.26  \n",
       "pressure_tendency      5.0      8.00      9.00  \n",
       "visibility            10.0     10.00     10.00  "
      ]
     },
     "execution_count": 13,
     "metadata": {},
     "output_type": "execute_result"
    }
   ],
   "source": [
    "df.describe().T"
   ]
  },
  {
   "cell_type": "markdown",
   "id": "d91f7c3e-6cf3-41cf-9785-8a45d165da51",
   "metadata": {},
   "source": [
    "## 開始補值"
   ]
  },
  {
   "cell_type": "markdown",
   "id": "f9dd6cd2-ad95-4b66-b3a3-02038137a0ea",
   "metadata": {},
   "source": [
    "### R_relative_humidity 大部分氣象站缺的不多 數值漂亮可直接補  但有遇到氣象站整個月都缺失 最後再以平均補上以補救"
   ]
  },
  {
   "cell_type": "code",
   "execution_count": 14,
   "id": "a6a6b3a6-15af-46d9-ad7d-d582f7d93c1e",
   "metadata": {},
   "outputs": [
    {
     "data": {
      "text/plain": [
       "(83830, 25)"
      ]
     },
     "execution_count": 14,
     "metadata": {},
     "output_type": "execute_result"
    }
   ],
   "source": [
    "df.shape"
   ]
  },
  {
   "cell_type": "code",
   "execution_count": 15,
   "id": "b6010924-5be8-4148-8305-3a1bf3a6a8b6",
   "metadata": {},
   "outputs": [],
   "source": [
    "df[['relative_humidity']] = df[['relative_humidity']].interpolate(method='nearest' , limit_direction = 'both', limit = 300 )\n",
    "df[['relative_humidity']] = df[['relative_humidity']].fillna(df['relative_humidity'].mean())"
   ]
  },
  {
   "cell_type": "code",
   "execution_count": 16,
   "id": "4e47f7e9-f655-4b67-89c8-dbc4b8585991",
   "metadata": {},
   "outputs": [
    {
     "data": {
      "text/html": [
       "<div>\n",
       "<style scoped>\n",
       "    .dataframe tbody tr th:only-of-type {\n",
       "        vertical-align: middle;\n",
       "    }\n",
       "\n",
       "    .dataframe tbody tr th {\n",
       "        vertical-align: top;\n",
       "    }\n",
       "\n",
       "    .dataframe thead th {\n",
       "        text-align: right;\n",
       "    }\n",
       "</style>\n",
       "<table border=\"1\" class=\"dataframe\">\n",
       "  <thead>\n",
       "    <tr style=\"text-align: right;\">\n",
       "      <th></th>\n",
       "      <th>count</th>\n",
       "      <th>mean</th>\n",
       "      <th>std</th>\n",
       "      <th>min</th>\n",
       "      <th>25%</th>\n",
       "      <th>50%</th>\n",
       "      <th>75%</th>\n",
       "      <th>max</th>\n",
       "    </tr>\n",
       "  </thead>\n",
       "  <tbody>\n",
       "    <tr>\n",
       "      <th>relative_humidity</th>\n",
       "      <td>83830.0</td>\n",
       "      <td>77.327365</td>\n",
       "      <td>18.14761</td>\n",
       "      <td>14.0</td>\n",
       "      <td>67.0</td>\n",
       "      <td>84.0</td>\n",
       "      <td>90.0</td>\n",
       "      <td>100.0</td>\n",
       "    </tr>\n",
       "  </tbody>\n",
       "</table>\n",
       "</div>"
      ],
      "text/plain": [
       "                     count       mean       std   min   25%   50%   75%    max\n",
       "relative_humidity  83830.0  77.327365  18.14761  14.0  67.0  84.0  90.0  100.0"
      ]
     },
     "execution_count": 16,
     "metadata": {},
     "output_type": "execute_result"
    }
   ],
   "source": [
    "df[['relative_humidity']].describe().T"
   ]
  },
  {
   "cell_type": "code",
   "execution_count": 17,
   "id": "dd3dc369-669c-4354-855f-6c394fffc33d",
   "metadata": {},
   "outputs": [
    {
     "data": {
      "text/plain": [
       "relative_humidity    0\n",
       "dtype: int64"
      ]
     },
     "execution_count": 17,
     "metadata": {},
     "output_type": "execute_result"
    }
   ],
   "source": [
    "df[['relative_humidity']].isna().sum()"
   ]
  },
  {
   "cell_type": "markdown",
   "id": "ca9f8871-36bd-4908-896e-22489b3996f5",
   "metadata": {},
   "source": [
    "### S_wind_dict"
   ]
  },
  {
   "cell_type": "markdown",
   "id": "90d3046f-1116-4dbd-bd51-ade952835dcd",
   "metadata": {},
   "source": [
    "### 在上方步驟前處理中 理應已經補完 空值被視為 0"
   ]
  },
  {
   "cell_type": "markdown",
   "id": "37fbc016-c212-412c-82fb-2a8d8c52a239",
   "metadata": {},
   "source": [
    "### T_wind_speed 卻失嚴重 但缺失分布算穩定 以差值法補完後 分布通常會變集中(因為已知值少 補多數缺失值)"
   ]
  },
  {
   "cell_type": "code",
   "execution_count": 18,
   "id": "8bad5b4d-b14e-4f73-973b-d95906d6e427",
   "metadata": {},
   "outputs": [],
   "source": [
    "df[['wind_speed']] = df[['wind_speed']].interpolate(method='nearest' ,limit_direction = 'both', limit = 1000)\n",
    "df[['wind_speed']] = df[['wind_speed']].fillna(df['wind_speed'].mean())"
   ]
  },
  {
   "cell_type": "code",
   "execution_count": 19,
   "id": "a11aad01-de0e-4fd8-a93d-b1ff85253e2f",
   "metadata": {},
   "outputs": [
    {
     "data": {
      "text/html": [
       "<div>\n",
       "<style scoped>\n",
       "    .dataframe tbody tr th:only-of-type {\n",
       "        vertical-align: middle;\n",
       "    }\n",
       "\n",
       "    .dataframe tbody tr th {\n",
       "        vertical-align: top;\n",
       "    }\n",
       "\n",
       "    .dataframe thead th {\n",
       "        text-align: right;\n",
       "    }\n",
       "</style>\n",
       "<table border=\"1\" class=\"dataframe\">\n",
       "  <thead>\n",
       "    <tr style=\"text-align: right;\">\n",
       "      <th></th>\n",
       "      <th>count</th>\n",
       "      <th>mean</th>\n",
       "      <th>std</th>\n",
       "      <th>min</th>\n",
       "      <th>25%</th>\n",
       "      <th>50%</th>\n",
       "      <th>75%</th>\n",
       "      <th>max</th>\n",
       "    </tr>\n",
       "  </thead>\n",
       "  <tbody>\n",
       "    <tr>\n",
       "      <th>wind_speed</th>\n",
       "      <td>83830.0</td>\n",
       "      <td>22.053869</td>\n",
       "      <td>4.363702</td>\n",
       "      <td>14.0</td>\n",
       "      <td>20.0</td>\n",
       "      <td>21.0</td>\n",
       "      <td>24.0</td>\n",
       "      <td>64.0</td>\n",
       "    </tr>\n",
       "  </tbody>\n",
       "</table>\n",
       "</div>"
      ],
      "text/plain": [
       "              count       mean       std   min   25%   50%   75%   max\n",
       "wind_speed  83830.0  22.053869  4.363702  14.0  20.0  21.0  24.0  64.0"
      ]
     },
     "execution_count": 19,
     "metadata": {},
     "output_type": "execute_result"
    }
   ],
   "source": [
    "df[['wind_speed']].describe().T"
   ]
  },
  {
   "cell_type": "code",
   "execution_count": 20,
   "id": "a58c3fd7-af42-4848-8348-c27bbadeffff",
   "metadata": {},
   "outputs": [
    {
     "data": {
      "text/plain": [
       "wind_speed    0\n",
       "dtype: int64"
      ]
     },
     "execution_count": 20,
     "metadata": {},
     "output_type": "execute_result"
    }
   ],
   "source": [
    "df[['wind_speed']].isna().sum()"
   ]
  },
  {
   "cell_type": "markdown",
   "id": "d383e36d-e6f0-4825-b6b5-83aea074db9e",
   "metadata": {},
   "source": [
    "###  V_visibility 缺失不嚴重 原是數據便高度集中 補起來也較讓人安心"
   ]
  },
  {
   "cell_type": "code",
   "execution_count": 21,
   "id": "58ba86a8-1af2-47f3-b564-eebe91a42ca1",
   "metadata": {},
   "outputs": [],
   "source": [
    "df[['visibility']] = df[['visibility']].interpolate(method='nearest' ,limit_direction = 'both', limit = 300)\n",
    "df[['visibility']] = df[['visibility']].fillna(df['visibility'].mean())"
   ]
  },
  {
   "cell_type": "code",
   "execution_count": 22,
   "id": "e30be162-b3b2-4100-bea9-6e2603053cbc",
   "metadata": {},
   "outputs": [
    {
     "data": {
      "text/html": [
       "<div>\n",
       "<style scoped>\n",
       "    .dataframe tbody tr th:only-of-type {\n",
       "        vertical-align: middle;\n",
       "    }\n",
       "\n",
       "    .dataframe tbody tr th {\n",
       "        vertical-align: top;\n",
       "    }\n",
       "\n",
       "    .dataframe thead th {\n",
       "        text-align: right;\n",
       "    }\n",
       "</style>\n",
       "<table border=\"1\" class=\"dataframe\">\n",
       "  <thead>\n",
       "    <tr style=\"text-align: right;\">\n",
       "      <th></th>\n",
       "      <th>count</th>\n",
       "      <th>mean</th>\n",
       "      <th>std</th>\n",
       "      <th>min</th>\n",
       "      <th>25%</th>\n",
       "      <th>50%</th>\n",
       "      <th>75%</th>\n",
       "      <th>max</th>\n",
       "    </tr>\n",
       "  </thead>\n",
       "  <tbody>\n",
       "    <tr>\n",
       "      <th>visibility</th>\n",
       "      <td>83830.0</td>\n",
       "      <td>8.812481</td>\n",
       "      <td>2.670748</td>\n",
       "      <td>0.0</td>\n",
       "      <td>9.94</td>\n",
       "      <td>10.0</td>\n",
       "      <td>10.0</td>\n",
       "      <td>10.0</td>\n",
       "    </tr>\n",
       "  </tbody>\n",
       "</table>\n",
       "</div>"
      ],
      "text/plain": [
       "              count      mean       std  min   25%   50%   75%   max\n",
       "visibility  83830.0  8.812481  2.670748  0.0  9.94  10.0  10.0  10.0"
      ]
     },
     "execution_count": 22,
     "metadata": {},
     "output_type": "execute_result"
    }
   ],
   "source": [
    "df[['visibility']].describe().T"
   ]
  },
  {
   "cell_type": "code",
   "execution_count": 23,
   "id": "f75a69b5-3cac-4ad3-bbb6-3a6c87d18d3e",
   "metadata": {},
   "outputs": [
    {
     "data": {
      "text/plain": [
       "visibility    0\n",
       "dtype: int64"
      ]
     },
     "execution_count": 23,
     "metadata": {},
     "output_type": "execute_result"
    }
   ],
   "source": [
    "df[['visibility']].isna().sum()"
   ]
  },
  {
   "cell_type": "markdown",
   "id": "4870d2e3-9a5b-46a6-9a01-608a4fbc5ff2",
   "metadata": {},
   "source": [
    "## 最後檢查補值完情形"
   ]
  },
  {
   "cell_type": "code",
   "execution_count": 24,
   "id": "3ec81cd4-d171-49af-8e04-aff64f86aabb",
   "metadata": {},
   "outputs": [
    {
     "data": {
      "text/plain": [
       "WBAN                 0.000000\n",
       "date_yyyy            0.000000\n",
       "date_mm              0.000000\n",
       "date_dd              0.000000\n",
       "time_hh              0.000000\n",
       "time_mm              0.000000\n",
       "time_ss              0.000000\n",
       "sunrise_hh           0.000167\n",
       "sunrise_mm           0.000167\n",
       "sunset_hh            0.000167\n",
       "sunset_mm            0.000167\n",
       "dry_bulb_temp        0.001062\n",
       "wet_bulb_temp        0.006024\n",
       "dew_point_temp       0.001539\n",
       "precipitation        0.284015\n",
       "snow_fall            1.000000\n",
       "snow_depth           1.000000\n",
       "relative_humidity    0.000000\n",
       "wind_dict            0.000000\n",
       "wind_speed           0.000000\n",
       "station_pressure     0.004485\n",
       "sealevel_pressure    0.252463\n",
       "pressure_change      0.683228\n",
       "pressure_tendency    0.683228\n",
       "visibility           0.000000\n",
       "dtype: float64"
      ]
     },
     "execution_count": 24,
     "metadata": {},
     "output_type": "execute_result"
    }
   ],
   "source": [
    "df.isna().mean()"
   ]
  },
  {
   "cell_type": "code",
   "execution_count": 25,
   "id": "064ee35a-d21a-4a0f-9e44-348e774c4419",
   "metadata": {},
   "outputs": [
    {
     "data": {
      "text/html": [
       "<div>\n",
       "<style scoped>\n",
       "    .dataframe tbody tr th:only-of-type {\n",
       "        vertical-align: middle;\n",
       "    }\n",
       "\n",
       "    .dataframe tbody tr th {\n",
       "        vertical-align: top;\n",
       "    }\n",
       "\n",
       "    .dataframe thead th {\n",
       "        text-align: right;\n",
       "    }\n",
       "</style>\n",
       "<table border=\"1\" class=\"dataframe\">\n",
       "  <thead>\n",
       "    <tr style=\"text-align: right;\">\n",
       "      <th></th>\n",
       "      <th>count</th>\n",
       "      <th>mean</th>\n",
       "      <th>std</th>\n",
       "      <th>min</th>\n",
       "      <th>25%</th>\n",
       "      <th>50%</th>\n",
       "      <th>75%</th>\n",
       "      <th>max</th>\n",
       "    </tr>\n",
       "  </thead>\n",
       "  <tbody>\n",
       "    <tr>\n",
       "      <th>WBAN</th>\n",
       "      <td>83830.0</td>\n",
       "      <td>13865.000000</td>\n",
       "      <td>0.000000</td>\n",
       "      <td>13865.00</td>\n",
       "      <td>13865.00</td>\n",
       "      <td>13865.0</td>\n",
       "      <td>13865.00</td>\n",
       "      <td>13865.00</td>\n",
       "    </tr>\n",
       "    <tr>\n",
       "      <th>date_yyyy</th>\n",
       "      <td>83830.0</td>\n",
       "      <td>2019.593845</td>\n",
       "      <td>1.789416</td>\n",
       "      <td>2017.00</td>\n",
       "      <td>2018.00</td>\n",
       "      <td>2020.0</td>\n",
       "      <td>2021.00</td>\n",
       "      <td>2023.00</td>\n",
       "    </tr>\n",
       "    <tr>\n",
       "      <th>date_mm</th>\n",
       "      <td>83830.0</td>\n",
       "      <td>6.330872</td>\n",
       "      <td>3.526908</td>\n",
       "      <td>1.00</td>\n",
       "      <td>3.00</td>\n",
       "      <td>6.0</td>\n",
       "      <td>9.00</td>\n",
       "      <td>12.00</td>\n",
       "    </tr>\n",
       "    <tr>\n",
       "      <th>date_dd</th>\n",
       "      <td>83830.0</td>\n",
       "      <td>15.665108</td>\n",
       "      <td>8.792270</td>\n",
       "      <td>1.00</td>\n",
       "      <td>8.00</td>\n",
       "      <td>16.0</td>\n",
       "      <td>23.00</td>\n",
       "      <td>31.00</td>\n",
       "    </tr>\n",
       "    <tr>\n",
       "      <th>time_hh</th>\n",
       "      <td>83830.0</td>\n",
       "      <td>10.893177</td>\n",
       "      <td>6.926788</td>\n",
       "      <td>0.00</td>\n",
       "      <td>5.00</td>\n",
       "      <td>11.0</td>\n",
       "      <td>17.00</td>\n",
       "      <td>23.00</td>\n",
       "    </tr>\n",
       "    <tr>\n",
       "      <th>time_mm</th>\n",
       "      <td>83830.0</td>\n",
       "      <td>45.193415</td>\n",
       "      <td>21.049302</td>\n",
       "      <td>0.00</td>\n",
       "      <td>36.00</td>\n",
       "      <td>58.0</td>\n",
       "      <td>58.00</td>\n",
       "      <td>59.00</td>\n",
       "    </tr>\n",
       "    <tr>\n",
       "      <th>time_ss</th>\n",
       "      <td>83830.0</td>\n",
       "      <td>0.000000</td>\n",
       "      <td>0.000000</td>\n",
       "      <td>0.00</td>\n",
       "      <td>0.00</td>\n",
       "      <td>0.0</td>\n",
       "      <td>0.00</td>\n",
       "      <td>0.00</td>\n",
       "    </tr>\n",
       "    <tr>\n",
       "      <th>sunrise_hh</th>\n",
       "      <td>83816.0</td>\n",
       "      <td>5.272001</td>\n",
       "      <td>0.741416</td>\n",
       "      <td>4.00</td>\n",
       "      <td>5.00</td>\n",
       "      <td>5.0</td>\n",
       "      <td>6.00</td>\n",
       "      <td>6.00</td>\n",
       "    </tr>\n",
       "    <tr>\n",
       "      <th>sunrise_mm</th>\n",
       "      <td>83816.0</td>\n",
       "      <td>35.815250</td>\n",
       "      <td>18.025773</td>\n",
       "      <td>0.00</td>\n",
       "      <td>20.00</td>\n",
       "      <td>41.0</td>\n",
       "      <td>51.00</td>\n",
       "      <td>59.00</td>\n",
       "    </tr>\n",
       "    <tr>\n",
       "      <th>sunset_hh</th>\n",
       "      <td>83816.0</td>\n",
       "      <td>17.485003</td>\n",
       "      <td>0.884077</td>\n",
       "      <td>16.00</td>\n",
       "      <td>17.00</td>\n",
       "      <td>18.0</td>\n",
       "      <td>18.00</td>\n",
       "      <td>19.00</td>\n",
       "    </tr>\n",
       "    <tr>\n",
       "      <th>sunset_mm</th>\n",
       "      <td>83816.0</td>\n",
       "      <td>29.852510</td>\n",
       "      <td>19.828134</td>\n",
       "      <td>0.00</td>\n",
       "      <td>9.00</td>\n",
       "      <td>31.0</td>\n",
       "      <td>50.00</td>\n",
       "      <td>59.00</td>\n",
       "    </tr>\n",
       "    <tr>\n",
       "      <th>wet_bulb_temp</th>\n",
       "      <td>83325.0</td>\n",
       "      <td>60.750459</td>\n",
       "      <td>13.649073</td>\n",
       "      <td>8.00</td>\n",
       "      <td>51.00</td>\n",
       "      <td>64.0</td>\n",
       "      <td>72.00</td>\n",
       "      <td>84.00</td>\n",
       "    </tr>\n",
       "    <tr>\n",
       "      <th>snow_fall</th>\n",
       "      <td>0.0</td>\n",
       "      <td>NaN</td>\n",
       "      <td>NaN</td>\n",
       "      <td>NaN</td>\n",
       "      <td>NaN</td>\n",
       "      <td>NaN</td>\n",
       "      <td>NaN</td>\n",
       "      <td>NaN</td>\n",
       "    </tr>\n",
       "    <tr>\n",
       "      <th>snow_depth</th>\n",
       "      <td>0.0</td>\n",
       "      <td>NaN</td>\n",
       "      <td>NaN</td>\n",
       "      <td>NaN</td>\n",
       "      <td>NaN</td>\n",
       "      <td>NaN</td>\n",
       "      <td>NaN</td>\n",
       "      <td>NaN</td>\n",
       "    </tr>\n",
       "    <tr>\n",
       "      <th>relative_humidity</th>\n",
       "      <td>83830.0</td>\n",
       "      <td>77.327365</td>\n",
       "      <td>18.147610</td>\n",
       "      <td>14.00</td>\n",
       "      <td>67.00</td>\n",
       "      <td>84.0</td>\n",
       "      <td>90.00</td>\n",
       "      <td>100.00</td>\n",
       "    </tr>\n",
       "    <tr>\n",
       "      <th>wind_dict</th>\n",
       "      <td>83830.0</td>\n",
       "      <td>0.000000</td>\n",
       "      <td>0.000000</td>\n",
       "      <td>0.00</td>\n",
       "      <td>0.00</td>\n",
       "      <td>0.0</td>\n",
       "      <td>0.00</td>\n",
       "      <td>0.00</td>\n",
       "    </tr>\n",
       "    <tr>\n",
       "      <th>wind_speed</th>\n",
       "      <td>83830.0</td>\n",
       "      <td>22.053869</td>\n",
       "      <td>4.363702</td>\n",
       "      <td>14.00</td>\n",
       "      <td>20.00</td>\n",
       "      <td>21.0</td>\n",
       "      <td>24.00</td>\n",
       "      <td>64.00</td>\n",
       "    </tr>\n",
       "    <tr>\n",
       "      <th>pressure_change</th>\n",
       "      <td>26555.0</td>\n",
       "      <td>0.000798</td>\n",
       "      <td>0.036665</td>\n",
       "      <td>-0.22</td>\n",
       "      <td>-0.02</td>\n",
       "      <td>0.0</td>\n",
       "      <td>0.02</td>\n",
       "      <td>0.26</td>\n",
       "    </tr>\n",
       "    <tr>\n",
       "      <th>pressure_tendency</th>\n",
       "      <td>26555.0</td>\n",
       "      <td>4.636716</td>\n",
       "      <td>2.802991</td>\n",
       "      <td>0.00</td>\n",
       "      <td>3.00</td>\n",
       "      <td>5.0</td>\n",
       "      <td>8.00</td>\n",
       "      <td>9.00</td>\n",
       "    </tr>\n",
       "    <tr>\n",
       "      <th>visibility</th>\n",
       "      <td>83830.0</td>\n",
       "      <td>8.812481</td>\n",
       "      <td>2.670748</td>\n",
       "      <td>0.00</td>\n",
       "      <td>9.94</td>\n",
       "      <td>10.0</td>\n",
       "      <td>10.00</td>\n",
       "      <td>10.00</td>\n",
       "    </tr>\n",
       "  </tbody>\n",
       "</table>\n",
       "</div>"
      ],
      "text/plain": [
       "                     count          mean        std       min       25%  \\\n",
       "WBAN               83830.0  13865.000000   0.000000  13865.00  13865.00   \n",
       "date_yyyy          83830.0   2019.593845   1.789416   2017.00   2018.00   \n",
       "date_mm            83830.0      6.330872   3.526908      1.00      3.00   \n",
       "date_dd            83830.0     15.665108   8.792270      1.00      8.00   \n",
       "time_hh            83830.0     10.893177   6.926788      0.00      5.00   \n",
       "time_mm            83830.0     45.193415  21.049302      0.00     36.00   \n",
       "time_ss            83830.0      0.000000   0.000000      0.00      0.00   \n",
       "sunrise_hh         83816.0      5.272001   0.741416      4.00      5.00   \n",
       "sunrise_mm         83816.0     35.815250  18.025773      0.00     20.00   \n",
       "sunset_hh          83816.0     17.485003   0.884077     16.00     17.00   \n",
       "sunset_mm          83816.0     29.852510  19.828134      0.00      9.00   \n",
       "wet_bulb_temp      83325.0     60.750459  13.649073      8.00     51.00   \n",
       "snow_fall              0.0           NaN        NaN       NaN       NaN   \n",
       "snow_depth             0.0           NaN        NaN       NaN       NaN   \n",
       "relative_humidity  83830.0     77.327365  18.147610     14.00     67.00   \n",
       "wind_dict          83830.0      0.000000   0.000000      0.00      0.00   \n",
       "wind_speed         83830.0     22.053869   4.363702     14.00     20.00   \n",
       "pressure_change    26555.0      0.000798   0.036665     -0.22     -0.02   \n",
       "pressure_tendency  26555.0      4.636716   2.802991      0.00      3.00   \n",
       "visibility         83830.0      8.812481   2.670748      0.00      9.94   \n",
       "\n",
       "                       50%       75%       max  \n",
       "WBAN               13865.0  13865.00  13865.00  \n",
       "date_yyyy           2020.0   2021.00   2023.00  \n",
       "date_mm                6.0      9.00     12.00  \n",
       "date_dd               16.0     23.00     31.00  \n",
       "time_hh               11.0     17.00     23.00  \n",
       "time_mm               58.0     58.00     59.00  \n",
       "time_ss                0.0      0.00      0.00  \n",
       "sunrise_hh             5.0      6.00      6.00  \n",
       "sunrise_mm            41.0     51.00     59.00  \n",
       "sunset_hh             18.0     18.00     19.00  \n",
       "sunset_mm             31.0     50.00     59.00  \n",
       "wet_bulb_temp         64.0     72.00     84.00  \n",
       "snow_fall              NaN       NaN       NaN  \n",
       "snow_depth             NaN       NaN       NaN  \n",
       "relative_humidity     84.0     90.00    100.00  \n",
       "wind_dict              0.0      0.00      0.00  \n",
       "wind_speed            21.0     24.00     64.00  \n",
       "pressure_change        0.0      0.02      0.26  \n",
       "pressure_tendency      5.0      8.00      9.00  \n",
       "visibility            10.0     10.00     10.00  "
      ]
     },
     "execution_count": 25,
     "metadata": {},
     "output_type": "execute_result"
    }
   ],
   "source": [
    "df.describe().T"
   ]
  }
 ],
 "metadata": {
  "kernelspec": {
   "display_name": "Python 3 (ipykernel)",
   "language": "python",
   "name": "python3"
  },
  "language_info": {
   "codemirror_mode": {
    "name": "ipython",
    "version": 3
   },
   "file_extension": ".py",
   "mimetype": "text/x-python",
   "name": "python",
   "nbconvert_exporter": "python",
   "pygments_lexer": "ipython3",
   "version": "3.10.7"
  }
 },
 "nbformat": 4,
 "nbformat_minor": 5
}
